{
  "cells": [
    {
      "cell_type": "markdown",
      "metadata": {
        "id": "dhFalkm4cX5z"
      },
      "source": [
        "# Python para finanças - visualização de dados financeiros"
      ]
    },
    {
      "cell_type": "markdown",
      "metadata": {
        "id": "bghthlkARs0-"
      },
      "source": [
        "## Importação das bibliotecas"
      ]
    },
    {
      "cell_type": "code",
      "execution_count": null,
      "metadata": {
        "id": "1pkjgxVWSLpj"
      },
      "outputs": [],
      "source": [
        "import pandas as pd\n",
        "import numpy as np\n",
        "import matplotlib.pyplot as plt\n",
        "import seaborn as sns\n",
        "import plotly.express as px\n",
        "import yfinance as yf\n",
        "from constants import stocks"
      ]
    },
    {
      "cell_type": "markdown",
      "metadata": {
        "id": "FXKt3r0SOoOY"
      },
      "source": [
        "## Base de dados"
      ]
    },
    {
      "cell_type": "markdown",
      "metadata": {},
      "source": [
        "### Coletando dados do yahoo finance e removendo valores nulos dos dias em que as bolsas não abriram ou as ações da base de dados em questão não foram negociadas"
      ]
    },
    {
      "cell_type": "code",
      "execution_count": null,
      "metadata": {
        "colab": {
          "base_uri": "https://localhost:8080/"
        },
        "id": "yp7hx_3dd_VG",
        "outputId": "656e2cc9-bcb9-4371-ca00-18160827b3c7"
      },
      "outputs": [],
      "source": [
        "stocks_df = pd.DataFrame()\n",
        "for acao in stocks.keys():\n",
        "  stocks_df[acao] = yf.download(acao, start='2015-01-01')['Close']\n",
        "stocks_df = stocks_df.rename(columns=stocks)\n",
        "print(\"Valores nulos:\")\n",
        "print(stocks_df.isnull().sum())\n",
        "stocks_df = stocks_df.dropna()\n",
        "print(\"Removendo valores nulos:\")\n",
        "print(stocks_df.isnull().sum())\n",
        "stocks_df.describe()"
      ]
    },
    {
      "cell_type": "markdown",
      "metadata": {
        "id": "4j2vnA6b_Cbp"
      },
      "source": [
        "## Visualização"
      ]
    },
    {
      "cell_type": "markdown",
      "metadata": {},
      "source": [
        "### Histograma"
      ]
    },
    {
      "cell_type": "code",
      "execution_count": null,
      "metadata": {
        "colab": {
          "base_uri": "https://localhost:8080/",
          "height": 1000
        },
        "id": "voTZwUBAoQxD",
        "outputId": "91e062ed-9397-4075-c7c2-c675ddae0775"
      },
      "outputs": [],
      "source": [
        "for i in range(len(stocks_df.columns)):\n",
        "  fig = px.histogram(\n",
        "    stocks_df[stocks_df.columns[i]],\n",
        "    text_auto=True,\n",
        "    nbins=30,\n",
        ")\n",
        "  fig.update_layout(title=f\"{stocks_df.columns[i]} - Número de dias em que o valor de uma ação ficou em um certo intervalo de preço\")\n",
        "  fig.show()"
      ]
    },
    {
      "cell_type": "markdown",
      "metadata": {},
      "source": [
        "### Box plot"
      ]
    },
    {
      "cell_type": "code",
      "execution_count": null,
      "metadata": {
        "colab": {
          "base_uri": "https://localhost:8080/",
          "height": 542
        },
        "id": "FZAWhoHpsgYC",
        "outputId": "4605989d-cc2b-4693-f6cc-2b7c64d84e2c"
      },
      "outputs": [],
      "source": [
        "px.box(stocks_df)"
      ]
    },
    {
      "cell_type": "markdown",
      "metadata": {},
      "source": [
        "### Dataframe normalizado"
      ]
    },
    {
      "cell_type": "code",
      "execution_count": null,
      "metadata": {
        "id": "o5AXH7DMwBHj"
      },
      "outputs": [],
      "source": [
        "stocks_df_normalizado = stocks_df.copy()\n",
        "for column in stocks_df_normalizado.columns:\n",
        "  stocks_df_normalizado[column] = stocks_df_normalizado[column] / stocks_df_normalizado.loc[stocks_df.index[0], column]\n",
        "stocks_df_normalizado"
      ]
    },
    {
      "cell_type": "markdown",
      "metadata": {},
      "source": [
        "### Gráfico de linha"
      ]
    },
    {
      "cell_type": "code",
      "execution_count": null,
      "metadata": {
        "colab": {
          "base_uri": "https://localhost:8080/",
          "height": 542
        },
        "id": "XuRXXbn6yn01",
        "outputId": "02218183-859b-4a50-df1c-9481aba3c4eb"
      },
      "outputs": [],
      "source": [
        "fig = px.line(title = 'Histórico do preço das ações')\n",
        "for column in stocks_df.columns:\n",
        "  fig.add_scatter(x = stocks_df.index, y = stocks_df[column], name = column)\n",
        "fig.update_layout(hovermode=\"x\")\n",
        "fig.show()"
      ]
    },
    {
      "cell_type": "markdown",
      "metadata": {},
      "source": [
        "### Gráfico de linha normalizado"
      ]
    },
    {
      "cell_type": "code",
      "execution_count": null,
      "metadata": {},
      "outputs": [],
      "source": [
        "(stocks_df_normalizado.iloc[-1] - 1) / 9 * 100"
      ]
    },
    {
      "cell_type": "code",
      "execution_count": null,
      "metadata": {
        "colab": {
          "base_uri": "https://localhost:8080/",
          "height": 542
        },
        "id": "BWRqBsktzrEr",
        "outputId": "0303ded8-30dc-4135-a62d-34c900fe7e4a"
      },
      "outputs": [],
      "source": [
        "fig = px.line(title = 'Histórico do preço das ações - normalizado')\n",
        "for column in stocks_df_normalizado.columns:\n",
        "  fig.add_scatter(x = stocks_df_normalizado.index, y = stocks_df_normalizado[column], name = column)\n",
        "fig.update_layout(hovermode=\"x\")\n",
        "fig.show()"
      ]
    }
  ],
  "metadata": {
    "colab": {
      "provenance": [],
      "toc_visible": true
    },
    "kernelspec": {
      "display_name": "Python 3",
      "name": "python3"
    },
    "language_info": {
      "codemirror_mode": {
        "name": "ipython",
        "version": 3
      },
      "file_extension": ".py",
      "mimetype": "text/x-python",
      "name": "python",
      "nbconvert_exporter": "python",
      "pygments_lexer": "ipython3",
      "version": "3.10.12"
    }
  },
  "nbformat": 4,
  "nbformat_minor": 0
}
